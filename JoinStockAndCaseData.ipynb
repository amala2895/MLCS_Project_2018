{
 "cells": [
  {
   "cell_type": "code",
   "execution_count": null,
   "metadata": {},
   "outputs": [],
   "source": [
    "import pandas as pd\n",
    "import numpy as np\n",
    "\n",
    "ngram_data = pd.read_pickle(\"ngramdata.pkl\")\n",
    "ngram_data.fillna(0,inplace=True)\n",
    "ngram_data.to_csv(\"ngram.csv\")\n",
    "\n",
    "#data = pd.read_excel(\"stocks.xlsx\")\n"
   ]
  },
  {
   "cell_type": "code",
   "execution_count": null,
   "metadata": {},
   "outputs": [],
   "source": [
    "\n",
    "stock_data = pd.read_pickle(\"StockData.pkl\")\n",
    "\n",
    "stock_data = stock_data[(stock_data[\"Month\"]==1) | (stock_data[\"Month\"]==2)| (stock_data[\"Month\"]==3 )]\n",
    "\n",
    "#ngram_data.head(10)\n",
    "ngram_data = ngram_data.rename(columns={'month': 'Month'})\n",
    "\n",
    "df_new = pd.merge(ngram_data,stock_data,how='outer',on='Month')\n",
    "\n",
    "#df_new.ix[:,df_new.loc[0] == 1].columns\n",
    "\n",
    "#df_new\n",
    "#ngram_data.reset_index(inplace = True)\n",
    "\n",
    "#ngram_data"
   ]
  },
  {
   "cell_type": "code",
   "execution_count": null,
   "metadata": {},
   "outputs": [],
   "source": []
  },
  {
   "cell_type": "code",
   "execution_count": null,
   "metadata": {},
   "outputs": [],
   "source": [
    "\n",
    "column_names = ['caseid'] + list(ngram_data) + list(stock_data)\n",
    "\n",
    "\n",
    "print(type(column_names))\n",
    "final_dataframe = pd.DataFrame(columns=column_names)\n",
    "\n",
    "#final_dataframe\n",
    "\n",
    "#i = 0;\n",
    "#for index,row1 in ngram_data.iterrows():\n",
    "#    i = 0;\n",
    "#    for row2 in stock_data.iterrows():\n",
    "#        if(i == 10):\n",
    "#            break;\n",
    "#        temp_df = \n",
    "#        row_final = pd.concat([row1, row2], axis=1)\n",
    "#        final_dataframe.append(row_final)\n",
    "#        i = i+1;\n",
    "         \n",
    "    \n",
    "\n",
    "\n",
    "\n",
    "#pd.set_option('display.max_columns',None)\n",
    "#stock_data.ix[:,stock_data.loc[0] == 1].columns\n",
    "#merged_data = pd.merge(stock_data, ngram_data, how='outer', on= 'Month')        \n",
    "#merged_data\n"
   ]
  },
  {
   "cell_type": "code",
   "execution_count": null,
   "metadata": {},
   "outputs": [],
   "source": []
  }
 ],
 "metadata": {
  "kernelspec": {
   "display_name": "Python 3",
   "language": "python",
   "name": "python3"
  },
  "language_info": {
   "codemirror_mode": {
    "name": "ipython",
    "version": 3
   },
   "file_extension": ".py",
   "mimetype": "text/x-python",
   "name": "python",
   "nbconvert_exporter": "python",
   "pygments_lexer": "ipython3",
   "version": "3.6.3"
  }
 },
 "nbformat": 4,
 "nbformat_minor": 2
}
