{
 "cells": [
  {
   "cell_type": "code",
   "execution_count": 3,
   "metadata": {},
   "outputs": [],
   "source": [
    "import pandas as pd\n",
    "import numpy as np\n",
    "from sklearn.utils import shuffle\n",
    "from sklearn.model_selection import train_test_split\n",
    "import pickle\n",
    "\n",
    "#Read the stock data\n",
    "stockData = pd.read_csv(\"StockDaily2013 .csv\")\n",
    "stockData = stockData.rename(columns={'datadate': 'Date', 'conm': 'CompanyName','diff':'ChangeInStockPrice'})\n",
    "\n",
    "#Read the train case data\n",
    "caseDataFile_train = open(\"ngramdata_train.pkl\",\"rb\")\n",
    "caseData_train = pickle.load(caseDataFile_train)\n",
    "\n",
    "#Read the test case data\n",
    "caseDataFile_test = open(\"ngramdata_test.pkl\",\"rb\")\n",
    "caseData_test = pickle.load(caseDataFile_test)\n",
    "\n",
    "#Make the date format of all the datasets same\n",
    "caseData_train['Date'] =  pd.to_datetime(caseData_train['Date'])\n",
    "caseData_test['Date'] =  pd.to_datetime(caseData_test['Date'])\n",
    "stockData['Date'] = pd.to_datetime(stockData['Date'])\n",
    "\n",
    "#stockData = stockData.replace('AAR CORP','UNKNOWN')\n",
    "stockData = shuffle(stockData)\n",
    "\n",
    "#Join stock and train case data\n",
    "joined_train_data = pd.merge(caseData_train,stockData,how='inner',on='Date')\n",
    "\n",
    "joined_train_data = joined_train_data.head(11000)\n",
    "\n",
    "#Join stock and test case data\n",
    "joined_test_data = pd.merge(caseData_test,stockData,how='inner',on='Date')\n",
    "\n",
    "joined_test_data = joined_train_data.head(1000)\n",
    "\n",
    "joined_train_data = joined_train_data.drop('Month',1)\n",
    "joined_train_data = joined_train_data.drop('prccd',1)\n",
    "\n",
    "joined_test_data = joined_test_data.drop('Month',1)\n",
    "joined_test_data = joined_test_data.drop('prccd',1)\n",
    "\n",
    "#train_data_handle = open(\"train_data\", \"w\")\n",
    "#test_data_handle = open(\"test_data\", \"w\")\n",
    "\n",
    "#pickle.dump(joined_train_data,train_data_handle)\n",
    "#pickle.dump(joined_test_data,test_data_handle)\n",
    "\n",
    "joined_train_data.to_csv('train_data.csv')\n",
    "joined_test_data.to_csv('test_data.csv')\n",
    "\n",
    "#print (stockData.head(10))\n",
    "#print (caseData.head(5))\n",
    "#print (caseData.dtypes)\n",
    "#print (caseData.count())\n",
    "#print (joined_train_data.head(5))"
   ]
  },
  {
   "cell_type": "code",
   "execution_count": null,
   "metadata": {},
   "outputs": [],
   "source": [
    "\n",
    "#stock_df.head(10)"
   ]
  },
  {
   "cell_type": "code",
   "execution_count": null,
   "metadata": {},
   "outputs": [],
   "source": []
  },
  {
   "cell_type": "code",
   "execution_count": null,
   "metadata": {},
   "outputs": [],
   "source": []
  }
 ],
 "metadata": {
  "kernelspec": {
   "display_name": "Python 3",
   "language": "python",
   "name": "python3"
  },
  "language_info": {
   "codemirror_mode": {
    "name": "ipython",
    "version": 3
   },
   "file_extension": ".py",
   "mimetype": "text/x-python",
   "name": "python",
   "nbconvert_exporter": "python",
   "pygments_lexer": "ipython3",
   "version": "3.6.5"
  }
 },
 "nbformat": 4,
 "nbformat_minor": 2
}
