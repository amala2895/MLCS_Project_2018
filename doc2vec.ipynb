{
 "cells": [
  {
   "cell_type": "code",
   "execution_count": 3,
   "metadata": {},
   "outputs": [
    {
     "name": "stdout",
     "output_type": "stream",
     "text": [
      "out\n",
      "               year     date month  category      sub-category  \\\n",
      "caseid                                                           \n",
      "X10OE4DGG000N  2013  7/16/13     7       6.0    Employment Law   \n",
      "X1B7QSOG0000N  2013  8/15/13     8       6.0         Labor Law   \n",
      "X1ERHAGN       2013   1/9/13     1       7.0  Tax & Accounting   \n",
      "\n",
      "                                                     filename quarter  \n",
      "caseid                                                                 \n",
      "X10OE4DGG000N         X10OE4DGG000N_contentMajOp_HAMILTON.txt       3  \n",
      "X1B7QSOG0000N  X1B7QSOG0000N_contentMajOp_BOYCE F. MARTIN.txt       3  \n",
      "X1ERHAGN                        X1ERHAGN_contentMajOp_DYK.txt       1  \n",
      ".DS_Store\n",
      "1\n",
      "X1JR2IQ003_contentMajOp_E. GRADY JOLLY.txt\n",
      "6\n",
      "X1K7E4U003_contentMajOp_PLAGE R.txt\n",
      "8\n",
      "X1K89GO003_contentMajOp_LOURIE.txt\n",
      "8\n",
      "481\n",
      "481\n"
     ]
    }
   ],
   "source": [
    "import gensim\n",
    "import nltk\n",
    "from nltk import RegexpTokenizer\n",
    "from nltk.corpus import stopwords\n",
    "from os import listdir\n",
    "from os.path import isfile, join\n",
    "#nltk.download()\n",
    "import string \n",
    "from nltk import word_tokenize\n",
    "from nltk.util import ngrams\n",
    "from collections import Counter\n",
    "import pickle \n",
    "import pandas as pd \n",
    "import os\n",
    "\n",
    "print(\"out\")\n",
    "\n",
    "#case metadata\n",
    "casedata = pd.read_pickle('casedata.pkl')\n",
    "\n",
    "#taking only year 2013\n",
    "yearr=\"2013\"\n",
    "df=casedata[(casedata[\"year\"] == yearr)]\n",
    "print((df).head(3))\n",
    "\n",
    "#reading documents\n",
    "yearr=\"2013\"\n",
    "data=[]\n",
    "docLabels=[]\n",
    "for i in range(1,13):\n",
    "    pathname = os.path.join(\"Filtered/\"+yearr, str(i))\n",
    "    files=os.listdir(pathname)\n",
    "    \n",
    "    for file in files:\n",
    "        file1=file.split(\"_\")[0]\n",
    "        caseid=file1\n",
    "        if caseid not in docLabels:\n",
    "            \n",
    "            try:\n",
    "                data.append(open(pathname+\"/\"+file).read())\n",
    "            except:\n",
    "                print(file)\n",
    "                print(i)\n",
    "                continue\n",
    "            docLabels.append(caseid)\n",
    "\n",
    "\n",
    "        else:\n",
    "            print(file)\n",
    "            print(i)\n",
    "print(len(docLabels))\n",
    "print(len(data))"
   ]
  },
  {
   "cell_type": "code",
   "execution_count": 4,
   "metadata": {
    "collapsed": true
   },
   "outputs": [],
   "source": [
    "\n",
    "\n",
    "\n",
    "def clean(text):\n",
    "\n",
    "    text=text.lower()\n",
    "    table = str.maketrans(\"\", \"\", string.punctuation)\n",
    "    wnl = nltk.WordNetLemmatizer()\n",
    "    \n",
    "    \n",
    "    text=text.translate(table)\n",
    "    #print(\"without punctuation \")\n",
    "    #print(text)\n",
    "    token = nltk.word_tokenize(text)\n",
    "    #print(\"tokenized\")\n",
    "    #print(token)\n",
    "    \n",
    "\n",
    "    stop_words = set(stopwords.words('english'))\n",
    "    filtered_sentence = []\n",
    "\n",
    "    for w in token:\n",
    "        if w not in stop_words:\n",
    "            filtered_sentence.append(w)\n",
    "   \n",
    "    token=filtered_sentence\n",
    "    #print(\"without stop words\")\n",
    "    #print(token)\n",
    "    token=[wnl.lemmatize(t) for t in token]\n",
    "    #print(\"after lemma\")\n",
    "    #print(token)\n",
    "    return token\n",
    "\n",
    "new_data=[]\n",
    "for d in data:\n",
    "    d=clean(d)\n",
    "    new_data.append(d)\n",
    "data=new_data"
   ]
  },
  {
   "cell_type": "code",
   "execution_count": 5,
   "metadata": {
    "collapsed": true
   },
   "outputs": [],
   "source": [
    "#create iterator of data and doclabels\n",
    "class LabeledLineSentence(object):\n",
    "    def __init__(self, doc_list, labels_list):\n",
    "        self.labels_list = labels_list\n",
    "        self.doc_list = doc_list\n",
    "    def __iter__(self):\n",
    "        for idx, doc in enumerate(self.doc_list):\n",
    "              yield gensim.models.doc2vec.LabeledSentence(doc,[self.labels_list[idx]])\n"
   ]
  },
  {
   "cell_type": "code",
   "execution_count": 6,
   "metadata": {
    "collapsed": true
   },
   "outputs": [],
   "source": [
    "\n",
    "it = LabeledLineSentence(data, docLabels)\n"
   ]
  },
  {
   "cell_type": "code",
   "execution_count": 7,
   "metadata": {},
   "outputs": [
    {
     "name": "stderr",
     "output_type": "stream",
     "text": [
      "/Users/amaladeshpande/anaconda3/lib/python3.6/site-packages/gensim/models/doc2vec.py:366: UserWarning: The parameter `size` is deprecated, will be removed in 4.0.0, use `vector_size` instead.\n",
      "  warnings.warn(\"The parameter `size` is deprecated, will be removed in 4.0.0, use `vector_size` instead.\")\n",
      "/Users/amaladeshpande/anaconda3/lib/python3.6/site-packages/ipykernel_launcher.py:8: DeprecationWarning: Call to deprecated `LabeledSentence` (Class will be removed in 4.0.0, use TaggedDocument instead).\n",
      "  \n"
     ]
    },
    {
     "name": "stdout",
     "output_type": "stream",
     "text": [
      "model saved\n"
     ]
    }
   ],
   "source": [
    "model = gensim.models.Doc2Vec(size=300, min_count=0, alpha=0.025, min_alpha=0.025)\n",
    "model.build_vocab(it)\n",
    "\n",
    "#training \n",
    "for epoch in range(100):\n",
    "    #print('iteration '+str(epoch+1))\n",
    "    model.train(it,total_examples=model.corpus_count,epochs=model.epochs)\n",
    "    model.alpha -= 0.002\n",
    "    model.min_alpha = model.alpha\n",
    "\n",
    "model.save('doc2vec.model')\n",
    "print(\"model saved\")"
   ]
  },
  {
   "cell_type": "code",
   "execution_count": 8,
   "metadata": {
    "collapsed": true
   },
   "outputs": [],
   "source": [
    "d2v_model = gensim.models.doc2vec.Doc2Vec.load('doc2vec.model')"
   ]
  },
  {
   "cell_type": "code",
   "execution_count": 9,
   "metadata": {},
   "outputs": [
    {
     "data": {
      "text/html": [
       "<div>\n",
       "<style>\n",
       "    .dataframe thead tr:only-child th {\n",
       "        text-align: right;\n",
       "    }\n",
       "\n",
       "    .dataframe thead th {\n",
       "        text-align: left;\n",
       "    }\n",
       "\n",
       "    .dataframe tbody tr th {\n",
       "        vertical-align: top;\n",
       "    }\n",
       "</style>\n",
       "<table border=\"1\" class=\"dataframe\">\n",
       "  <thead>\n",
       "    <tr style=\"text-align: right;\">\n",
       "      <th></th>\n",
       "      <th>CaseId</th>\n",
       "      <th>Date</th>\n",
       "      <th>Vector</th>\n",
       "      <th>Year</th>\n",
       "      <th>Month</th>\n",
       "    </tr>\n",
       "  </thead>\n",
       "  <tbody>\n",
       "    <tr>\n",
       "      <th>0</th>\n",
       "      <td>X1F0UMON</td>\n",
       "      <td>1/10/13</td>\n",
       "      <td>[-0.702887, -2.72339, 0.152043, -1.59495, -2.2...</td>\n",
       "      <td>2013</td>\n",
       "      <td>1</td>\n",
       "    </tr>\n",
       "    <tr>\n",
       "      <th>1</th>\n",
       "      <td>X1J3RP6003</td>\n",
       "      <td>1/14/13</td>\n",
       "      <td>[3.23643, -0.0937236, 4.61111, 1.98329, -2.810...</td>\n",
       "      <td>2013</td>\n",
       "      <td>1</td>\n",
       "    </tr>\n",
       "    <tr>\n",
       "      <th>2</th>\n",
       "      <td>X1J2U46003</td>\n",
       "      <td>1/4/13</td>\n",
       "      <td>[-1.2397, -0.367636, -2.35951, -2.98144, -2.83...</td>\n",
       "      <td>2013</td>\n",
       "      <td>1</td>\n",
       "    </tr>\n",
       "    <tr>\n",
       "      <th>3</th>\n",
       "      <td>X1J62O6003</td>\n",
       "      <td>1/28/13</td>\n",
       "      <td>[0.83, -0.859892, 1.11428, 1.27963, 0.127096, ...</td>\n",
       "      <td>2013</td>\n",
       "      <td>1</td>\n",
       "    </tr>\n",
       "    <tr>\n",
       "      <th>4</th>\n",
       "      <td>X1EU3KGN</td>\n",
       "      <td>1/17/13</td>\n",
       "      <td>[-3.73752, -0.2601, -1.1849, -2.61639, -3.7697...</td>\n",
       "      <td>2013</td>\n",
       "      <td>1</td>\n",
       "    </tr>\n",
       "    <tr>\n",
       "      <th>5</th>\n",
       "      <td>X1J2NRO003</td>\n",
       "      <td>1/2/13</td>\n",
       "      <td>[-0.331647, -2.47936, 2.81137, 3.15342, -3.732...</td>\n",
       "      <td>2013</td>\n",
       "      <td>1</td>\n",
       "    </tr>\n",
       "    <tr>\n",
       "      <th>6</th>\n",
       "      <td>X1Q6MITDN5O2</td>\n",
       "      <td>1/28/13</td>\n",
       "      <td>[0.478112, -1.36496, -0.223039, 1.25757, -2.78...</td>\n",
       "      <td>2013</td>\n",
       "      <td>1</td>\n",
       "    </tr>\n",
       "    <tr>\n",
       "      <th>7</th>\n",
       "      <td>X1J3JV8003</td>\n",
       "      <td>1/11/13</td>\n",
       "      <td>[0.525288, 2.7498, 1.56802, -2.44837, -2.05702...</td>\n",
       "      <td>2013</td>\n",
       "      <td>1</td>\n",
       "    </tr>\n",
       "    <tr>\n",
       "      <th>8</th>\n",
       "      <td>X1J3FQQ003</td>\n",
       "      <td>1/10/13</td>\n",
       "      <td>[0.794932, 3.1061, -0.873964, 1.08231, -2.2346...</td>\n",
       "      <td>2013</td>\n",
       "      <td>1</td>\n",
       "    </tr>\n",
       "    <tr>\n",
       "      <th>9</th>\n",
       "      <td>X1J6PGC003</td>\n",
       "      <td>1/31/13</td>\n",
       "      <td>[0.79056, 3.62492, 3.95146, 0.386374, -2.00166...</td>\n",
       "      <td>2013</td>\n",
       "      <td>1</td>\n",
       "    </tr>\n",
       "  </tbody>\n",
       "</table>\n",
       "</div>"
      ],
      "text/plain": [
       "         CaseId     Date                                             Vector  \\\n",
       "0      X1F0UMON  1/10/13  [-0.702887, -2.72339, 0.152043, -1.59495, -2.2...   \n",
       "1    X1J3RP6003  1/14/13  [3.23643, -0.0937236, 4.61111, 1.98329, -2.810...   \n",
       "2    X1J2U46003   1/4/13  [-1.2397, -0.367636, -2.35951, -2.98144, -2.83...   \n",
       "3    X1J62O6003  1/28/13  [0.83, -0.859892, 1.11428, 1.27963, 0.127096, ...   \n",
       "4      X1EU3KGN  1/17/13  [-3.73752, -0.2601, -1.1849, -2.61639, -3.7697...   \n",
       "5    X1J2NRO003   1/2/13  [-0.331647, -2.47936, 2.81137, 3.15342, -3.732...   \n",
       "6  X1Q6MITDN5O2  1/28/13  [0.478112, -1.36496, -0.223039, 1.25757, -2.78...   \n",
       "7    X1J3JV8003  1/11/13  [0.525288, 2.7498, 1.56802, -2.44837, -2.05702...   \n",
       "8    X1J3FQQ003  1/10/13  [0.794932, 3.1061, -0.873964, 1.08231, -2.2346...   \n",
       "9    X1J6PGC003  1/31/13  [0.79056, 3.62492, 3.95146, 0.386374, -2.00166...   \n",
       "\n",
       "   Year Month  \n",
       "0  2013     1  \n",
       "1  2013     1  \n",
       "2  2013     1  \n",
       "3  2013     1  \n",
       "4  2013     1  \n",
       "5  2013     1  \n",
       "6  2013     1  \n",
       "7  2013     1  \n",
       "8  2013     1  \n",
       "9  2013     1  "
      ]
     },
     "execution_count": 9,
     "metadata": {},
     "output_type": "execute_result"
    }
   ],
   "source": [
    "columns1=['CaseId','Date','Vector','Year','Month']\n",
    "\n",
    "i=0\n",
    "docvector= pd.DataFrame(columns=columns1)\n",
    "for caseid in docLabels:\n",
    "    \n",
    "    date=df.loc[caseid][\"date\"]\n",
    "    m=df.loc[caseid][\"month\"]\n",
    "    m=int(m)\n",
    "    y=df.loc[caseid][\"year\"]\n",
    "    docvec = d2v_model.docvecs[caseid]\n",
    "    docvector = docvector.append({'CaseId':caseid,'Date':date,'Vector':docvec,'Month':m,'Year':y},ignore_index=True)\n",
    "docvector.head(10)"
   ]
  },
  {
   "cell_type": "code",
   "execution_count": 10,
   "metadata": {},
   "outputs": [
    {
     "name": "stdout",
     "output_type": "stream",
     "text": [
      "[('X1GDMUON', 0.49876973032951355), ('X1JE6MG003', 0.4984654486179352), ('X1KU5HS003', 0.49731796979904175), ('X1GFHF8N', 0.4941115379333496), ('X1K9LH0003', 0.4900771975517273), ('X1J434M003', 0.4872015714645386), ('X1GBNA0N', 0.486237496137619), ('X1JLVJC003', 0.4849395453929901), ('X1GFE5ON', 0.48279041051864624), ('X1ESKFON', 0.4826751947402954)]\n"
     ]
    }
   ],
   "source": [
    "#finding similar docs\n",
    "sims = d2v_model.docvecs.most_similar('XVITNB80000N')\n",
    "print((sims))"
   ]
  },
  {
   "cell_type": "code",
   "execution_count": 11,
   "metadata": {
    "collapsed": true
   },
   "outputs": [],
   "source": [
    "docvector.to_pickle(\"docvector.pkl\")"
   ]
  },
  {
   "cell_type": "code",
   "execution_count": 12,
   "metadata": {},
   "outputs": [
    {
     "data": {
      "text/html": [
       "<div>\n",
       "<style>\n",
       "    .dataframe thead tr:only-child th {\n",
       "        text-align: right;\n",
       "    }\n",
       "\n",
       "    .dataframe thead th {\n",
       "        text-align: left;\n",
       "    }\n",
       "\n",
       "    .dataframe tbody tr th {\n",
       "        vertical-align: top;\n",
       "    }\n",
       "</style>\n",
       "<table border=\"1\" class=\"dataframe\">\n",
       "  <thead>\n",
       "    <tr style=\"text-align: right;\">\n",
       "      <th></th>\n",
       "      <th>CaseId</th>\n",
       "      <th>Date</th>\n",
       "      <th>Vector</th>\n",
       "      <th>Year</th>\n",
       "      <th>Month</th>\n",
       "    </tr>\n",
       "  </thead>\n",
       "  <tbody>\n",
       "    <tr>\n",
       "      <th>0</th>\n",
       "      <td>X1F0UMON</td>\n",
       "      <td>1/10/13</td>\n",
       "      <td>[-0.702887, -2.72339, 0.152043, -1.59495, -2.2...</td>\n",
       "      <td>2013</td>\n",
       "      <td>1</td>\n",
       "    </tr>\n",
       "    <tr>\n",
       "      <th>1</th>\n",
       "      <td>X1J3RP6003</td>\n",
       "      <td>1/14/13</td>\n",
       "      <td>[3.23643, -0.0937236, 4.61111, 1.98329, -2.810...</td>\n",
       "      <td>2013</td>\n",
       "      <td>1</td>\n",
       "    </tr>\n",
       "    <tr>\n",
       "      <th>2</th>\n",
       "      <td>X1J2U46003</td>\n",
       "      <td>1/4/13</td>\n",
       "      <td>[-1.2397, -0.367636, -2.35951, -2.98144, -2.83...</td>\n",
       "      <td>2013</td>\n",
       "      <td>1</td>\n",
       "    </tr>\n",
       "  </tbody>\n",
       "</table>\n",
       "</div>"
      ],
      "text/plain": [
       "       CaseId     Date                                             Vector  \\\n",
       "0    X1F0UMON  1/10/13  [-0.702887, -2.72339, 0.152043, -1.59495, -2.2...   \n",
       "1  X1J3RP6003  1/14/13  [3.23643, -0.0937236, 4.61111, 1.98329, -2.810...   \n",
       "2  X1J2U46003   1/4/13  [-1.2397, -0.367636, -2.35951, -2.98144, -2.83...   \n",
       "\n",
       "   Year Month  \n",
       "0  2013     1  \n",
       "1  2013     1  \n",
       "2  2013     1  "
      ]
     },
     "execution_count": 12,
     "metadata": {},
     "output_type": "execute_result"
    }
   ],
   "source": [
    "import pickle \n",
    "with open('docvector.pkl', 'rb') as f:\n",
    "    docvec = pickle.load(f)\n",
    "docvec.head(3)"
   ]
  },
  {
   "cell_type": "code",
   "execution_count": 13,
   "metadata": {},
   "outputs": [
    {
     "name": "stdout",
     "output_type": "stream",
     "text": [
      "337\n"
     ]
    },
    {
     "data": {
      "text/html": [
       "<div>\n",
       "<style>\n",
       "    .dataframe thead tr:only-child th {\n",
       "        text-align: right;\n",
       "    }\n",
       "\n",
       "    .dataframe thead th {\n",
       "        text-align: left;\n",
       "    }\n",
       "\n",
       "    .dataframe tbody tr th {\n",
       "        vertical-align: top;\n",
       "    }\n",
       "</style>\n",
       "<table border=\"1\" class=\"dataframe\">\n",
       "  <thead>\n",
       "    <tr style=\"text-align: right;\">\n",
       "      <th></th>\n",
       "      <th>CaseId</th>\n",
       "      <th>Date</th>\n",
       "      <th>Vector</th>\n",
       "      <th>Year</th>\n",
       "      <th>Month</th>\n",
       "    </tr>\n",
       "  </thead>\n",
       "  <tbody>\n",
       "    <tr>\n",
       "      <th>0</th>\n",
       "      <td>X1F0UMON</td>\n",
       "      <td>1/10/13</td>\n",
       "      <td>[-0.702887, -2.72339, 0.152043, -1.59495, -2.2...</td>\n",
       "      <td>2013</td>\n",
       "      <td>1</td>\n",
       "    </tr>\n",
       "    <tr>\n",
       "      <th>1</th>\n",
       "      <td>X1J3RP6003</td>\n",
       "      <td>1/14/13</td>\n",
       "      <td>[3.23643, -0.0937236, 4.61111, 1.98329, -2.810...</td>\n",
       "      <td>2013</td>\n",
       "      <td>1</td>\n",
       "    </tr>\n",
       "    <tr>\n",
       "      <th>2</th>\n",
       "      <td>X1J2U46003</td>\n",
       "      <td>1/4/13</td>\n",
       "      <td>[-1.2397, -0.367636, -2.35951, -2.98144, -2.83...</td>\n",
       "      <td>2013</td>\n",
       "      <td>1</td>\n",
       "    </tr>\n",
       "  </tbody>\n",
       "</table>\n",
       "</div>"
      ],
      "text/plain": [
       "       CaseId     Date                                             Vector  \\\n",
       "0    X1F0UMON  1/10/13  [-0.702887, -2.72339, 0.152043, -1.59495, -2.2...   \n",
       "1  X1J3RP6003  1/14/13  [3.23643, -0.0937236, 4.61111, 1.98329, -2.810...   \n",
       "2  X1J2U46003   1/4/13  [-1.2397, -0.367636, -2.35951, -2.98144, -2.83...   \n",
       "\n",
       "   Year Month  \n",
       "0  2013     1  \n",
       "1  2013     1  \n",
       "2  2013     1  "
      ]
     },
     "execution_count": 13,
     "metadata": {},
     "output_type": "execute_result"
    }
   ],
   "source": [
    "train=docvec[docvec[\"Month\"]<=7]\n",
    "print(len(train))      \n",
    "train.head(3)"
   ]
  },
  {
   "cell_type": "code",
   "execution_count": 14,
   "metadata": {},
   "outputs": [
    {
     "name": "stdout",
     "output_type": "stream",
     "text": [
      "144\n"
     ]
    },
    {
     "data": {
      "text/html": [
       "<div>\n",
       "<style>\n",
       "    .dataframe thead tr:only-child th {\n",
       "        text-align: right;\n",
       "    }\n",
       "\n",
       "    .dataframe thead th {\n",
       "        text-align: left;\n",
       "    }\n",
       "\n",
       "    .dataframe tbody tr th {\n",
       "        vertical-align: top;\n",
       "    }\n",
       "</style>\n",
       "<table border=\"1\" class=\"dataframe\">\n",
       "  <thead>\n",
       "    <tr style=\"text-align: right;\">\n",
       "      <th></th>\n",
       "      <th>CaseId</th>\n",
       "      <th>Date</th>\n",
       "      <th>Vector</th>\n",
       "      <th>Year</th>\n",
       "      <th>Month</th>\n",
       "    </tr>\n",
       "  </thead>\n",
       "  <tbody>\n",
       "    <tr>\n",
       "      <th>337</th>\n",
       "      <td>X1K9LH0003</td>\n",
       "      <td>8/26/13</td>\n",
       "      <td>[-1.56573, 0.42477, -0.0676439, -1.27875, -0.9...</td>\n",
       "      <td>2013</td>\n",
       "      <td>8</td>\n",
       "    </tr>\n",
       "    <tr>\n",
       "      <th>338</th>\n",
       "      <td>X1K8D5O003</td>\n",
       "      <td>8/15/13</td>\n",
       "      <td>[-3.31128, -0.201175, 2.06844, 4.52087, -2.472...</td>\n",
       "      <td>2013</td>\n",
       "      <td>8</td>\n",
       "    </tr>\n",
       "    <tr>\n",
       "      <th>339</th>\n",
       "      <td>X1K7LQ2003</td>\n",
       "      <td>8/8/13</td>\n",
       "      <td>[2.93222, 3.85807, 1.08474, 0.228436, 0.120343...</td>\n",
       "      <td>2013</td>\n",
       "      <td>8</td>\n",
       "    </tr>\n",
       "  </tbody>\n",
       "</table>\n",
       "</div>"
      ],
      "text/plain": [
       "         CaseId     Date                                             Vector  \\\n",
       "337  X1K9LH0003  8/26/13  [-1.56573, 0.42477, -0.0676439, -1.27875, -0.9...   \n",
       "338  X1K8D5O003  8/15/13  [-3.31128, -0.201175, 2.06844, 4.52087, -2.472...   \n",
       "339  X1K7LQ2003   8/8/13  [2.93222, 3.85807, 1.08474, 0.228436, 0.120343...   \n",
       "\n",
       "     Year Month  \n",
       "337  2013     8  \n",
       "338  2013     8  \n",
       "339  2013     8  "
      ]
     },
     "execution_count": 14,
     "metadata": {},
     "output_type": "execute_result"
    }
   ],
   "source": [
    "test=docvec[docvec[\"Month\"]>7]\n",
    "print(len(test)) \n",
    "test.head(3)"
   ]
  },
  {
   "cell_type": "code",
   "execution_count": 15,
   "metadata": {
    "collapsed": true
   },
   "outputs": [],
   "source": [
    "train.to_pickle(\"traindocvector.pkl\")\n",
    "test.to_pickle(\"testdocvector.pkl\")"
   ]
  },
  {
   "cell_type": "code",
   "execution_count": null,
   "metadata": {
    "collapsed": true
   },
   "outputs": [],
   "source": []
  }
 ],
 "metadata": {
  "kernelspec": {
   "display_name": "Python 3",
   "language": "python",
   "name": "python3"
  },
  "language_info": {
   "codemirror_mode": {
    "name": "ipython",
    "version": 3
   },
   "file_extension": ".py",
   "mimetype": "text/x-python",
   "name": "python",
   "nbconvert_exporter": "python",
   "pygments_lexer": "ipython3",
   "version": "3.6.3"
  }
 },
 "nbformat": 4,
 "nbformat_minor": 2
}
