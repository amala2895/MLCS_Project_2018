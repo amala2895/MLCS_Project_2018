{
 "cells": [
  {
   "cell_type": "code",
   "execution_count": null,
   "metadata": {},
   "outputs": [],
   "source": [
    "import pandas as pd\n",
    "import numpy as np\n",
    "from sklearn.ensemble import RandomForestRegressor\n",
    "\n",
    "# Read in data and display first 5 rows\n",
    "data = pd.read_csv('ngram.csv')\n",
    "data.head(5)\n"
   ]
  },
  {
   "cell_type": "code",
   "execution_count": null,
   "metadata": {},
   "outputs": [],
   "source": [
    "#get one hot encoded caseids and company names\n",
    "data = pd.get_dummies(data)\n",
    "data.head(10)"
   ]
  },
  {
   "cell_type": "code",
   "execution_count": null,
   "metadata": {},
   "outputs": [],
   "source": [
    "\n",
    "train_data = data[(data[\"month\"] == 1)|(data[\"month\"] == 2)]\n",
    "test_data=data[(data[\"month\"] == 3)]\n",
    "\n",
    "labels_train = np.array(train_data['Transaction Volume'])\n",
    "labels_test = np.array(test_data['Transaction Volume'])\n",
    "\n",
    "train_data = np.array(train_data.drop(columns=['Transaction Volume']))\n",
    "test_data = np.array(test_data.drop(columns=['Transaction Volume']))\n"
   ]
  },
  {
   "cell_type": "code",
   "execution_count": null,
   "metadata": {},
   "outputs": [],
   "source": [
    "\n",
    "# Instantiate model with 100 decision trees and 20 leaves\n",
    "rf = RandomForestRegressor(n_estimators = 100, random_state = 20)\n",
    "\n",
    "# Train the model on training data\n",
    "rf.fit(train_data, labels_train);"
   ]
  },
  {
   "cell_type": "code",
   "execution_count": null,
   "metadata": {},
   "outputs": [],
   "source": [
    "# Use the forest's predict method on the test data\n",
    "predictions = rf.predict(test_data)\n",
    "\n",
    "print(predictions)\n",
    "# Calculate the absolute errors\n",
    "errors = abs(predictions - labels_test)\n",
    "\n",
    "# Print out the mean absolute error (mae)\n",
    "print('Mean Absolute Error:', round(np.mean(errors), 2), 'degrees.')\n"
   ]
  },
  {
   "cell_type": "code",
   "execution_count": null,
   "metadata": {},
   "outputs": [],
   "source": []
  }
 ],
 "metadata": {
  "kernelspec": {
   "display_name": "Python 3",
   "language": "python",
   "name": "python3"
  },
  "language_info": {
   "codemirror_mode": {
    "name": "ipython",
    "version": 3
   },
   "file_extension": ".py",
   "mimetype": "text/x-python",
   "name": "python",
   "nbconvert_exporter": "python",
   "pygments_lexer": "ipython3",
   "version": "3.6.3"
  }
 },
 "nbformat": 4,
 "nbformat_minor": 2
}
